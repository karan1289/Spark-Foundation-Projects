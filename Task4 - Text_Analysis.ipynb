{
 "cells": [
  {
   "cell_type": "markdown",
   "metadata": {},
   "source": [
    "# Text Analysis on Yahoo News Headlines"
   ]
  },
  {
   "cell_type": "code",
   "execution_count": 4,
   "metadata": {
    "colab": {
     "background_save": true,
     "base_uri": "https://localhost:8080/",
     "height": 139
    },
    "id": "FZoL1UA0uMdP",
    "outputId": "dd648867-d6cd-44be-ebf5-e73d56034881"
   },
   "outputs": [
    {
     "name": "stderr",
     "output_type": "stream",
     "text": [
      "[nltk_data] Downloading package stopwords to\n",
      "[nltk_data]     C:\\Users\\user\\AppData\\Roaming\\nltk_data...\n",
      "[nltk_data]   Package stopwords is already up-to-date!\n",
      "[nltk_data] Downloading package vader_lexicon to\n",
      "[nltk_data]     C:\\Users\\user\\AppData\\Roaming\\nltk_data...\n",
      "[nltk_data]   Package vader_lexicon is already up-to-date!\n"
     ]
    }
   ],
   "source": [
    "import pandas as pd\n",
    "import numpy as np\n",
    "import matplotlib.pyplot as plt\n",
    "import itertools\n",
    "import nltk\n",
    "import re\n",
    "from nltk.corpus import stopwords\n",
    "nltk.download('stopwords')\n",
    "nltk.download('vader_lexicon')\n",
    "from textblob import TextBlob\n",
    "from nltk.sentiment.vader import SentimentIntensityAnalyzer\n",
    "from nltk.stem.porter import PorterStemmer\n",
    "from sklearn.model_selection import train_test_split\n",
    "from sklearn.metrics import mean_squared_error\n",
    "from sklearn.ensemble import RandomForestRegressor,AdaBoostRegressor\n",
    "import lightgbm"
   ]
  },
  {
   "cell_type": "code",
   "execution_count": 6,
   "metadata": {
    "id": "ZQ0fgrci2BaK"
   },
   "outputs": [],
   "source": [
    "data=pd.read_csv('headlines.csv',parse_dates=True)"
   ]
  },
  {
   "cell_type": "code",
   "execution_count": 7,
   "metadata": {
    "colab": {
     "background_save": true,
     "base_uri": "https://localhost:8080/",
     "height": 204
    },
    "id": "yv0q1eoH2dJs",
    "outputId": "e564344e-4eca-43a3-cba2-922ed7e2d77f"
   },
   "outputs": [
    {
     "data": {
      "text/html": [
       "<div>\n",
       "<style scoped>\n",
       "    .dataframe tbody tr th:only-of-type {\n",
       "        vertical-align: middle;\n",
       "    }\n",
       "\n",
       "    .dataframe tbody tr th {\n",
       "        vertical-align: top;\n",
       "    }\n",
       "\n",
       "    .dataframe thead th {\n",
       "        text-align: right;\n",
       "    }\n",
       "</style>\n",
       "<table border=\"1\" class=\"dataframe\">\n",
       "  <thead>\n",
       "    <tr style=\"text-align: right;\">\n",
       "      <th></th>\n",
       "      <th>publish_date</th>\n",
       "      <th>headline_category</th>\n",
       "      <th>headline_text</th>\n",
       "    </tr>\n",
       "  </thead>\n",
       "  <tbody>\n",
       "    <tr>\n",
       "      <th>3297167</th>\n",
       "      <td>20200630</td>\n",
       "      <td>gadgets-news</td>\n",
       "      <td>why tiktok removed 1 65 crore videos in india</td>\n",
       "    </tr>\n",
       "    <tr>\n",
       "      <th>3297168</th>\n",
       "      <td>20200630</td>\n",
       "      <td>entertainment.hindi.bollywood</td>\n",
       "      <td>apurva asrani calls alia bhatts mother soni ra...</td>\n",
       "    </tr>\n",
       "    <tr>\n",
       "      <th>3297169</th>\n",
       "      <td>20200630</td>\n",
       "      <td>entertainment.hindi.bollywood</td>\n",
       "      <td>kangana ranaut gets a doll version of herself ...</td>\n",
       "    </tr>\n",
       "    <tr>\n",
       "      <th>3297170</th>\n",
       "      <td>20200630</td>\n",
       "      <td>entertainment.hindi.bollywood</td>\n",
       "      <td>meezaan jaffrey reminisces his childhood days ...</td>\n",
       "    </tr>\n",
       "    <tr>\n",
       "      <th>3297171</th>\n",
       "      <td>20200630</td>\n",
       "      <td>entertainment.telugu.movies.news</td>\n",
       "      <td>prabhas20 titled as radhe shyam prabhas and po...</td>\n",
       "    </tr>\n",
       "  </tbody>\n",
       "</table>\n",
       "</div>"
      ],
      "text/plain": [
       "         publish_date                 headline_category  \\\n",
       "3297167      20200630                      gadgets-news   \n",
       "3297168      20200630     entertainment.hindi.bollywood   \n",
       "3297169      20200630     entertainment.hindi.bollywood   \n",
       "3297170      20200630     entertainment.hindi.bollywood   \n",
       "3297171      20200630  entertainment.telugu.movies.news   \n",
       "\n",
       "                                             headline_text  \n",
       "3297167      why tiktok removed 1 65 crore videos in india  \n",
       "3297168  apurva asrani calls alia bhatts mother soni ra...  \n",
       "3297169  kangana ranaut gets a doll version of herself ...  \n",
       "3297170  meezaan jaffrey reminisces his childhood days ...  \n",
       "3297171  prabhas20 titled as radhe shyam prabhas and po...  "
      ]
     },
     "execution_count": 7,
     "metadata": {},
     "output_type": "execute_result"
    }
   ],
   "source": [
    "data.tail()"
   ]
  },
  {
   "cell_type": "code",
   "execution_count": 8,
   "metadata": {
    "colab": {
     "background_save": true,
     "base_uri": "https://localhost:8080/",
     "height": 187
    },
    "id": "s2iqF47T2eOk",
    "outputId": "13883fc9-62ef-4572-a559-3f5c27baaf26"
   },
   "outputs": [
    {
     "name": "stdout",
     "output_type": "stream",
     "text": [
      "<class 'pandas.core.frame.DataFrame'>\n",
      "RangeIndex: 3297172 entries, 0 to 3297171\n",
      "Data columns (total 3 columns):\n",
      " #   Column             Dtype \n",
      "---  ------             ----- \n",
      " 0   publish_date       int64 \n",
      " 1   headline_category  object\n",
      " 2   headline_text      object\n",
      "dtypes: int64(1), object(2)\n",
      "memory usage: 75.5+ MB\n"
     ]
    }
   ],
   "source": [
    "data.info()"
   ]
  },
  {
   "cell_type": "code",
   "execution_count": 9,
   "metadata": {
    "colab": {
     "background_save": true
    },
    "id": "Z29QaH9v3SBr"
   },
   "outputs": [],
   "source": [
    "data.dropna(inplace=True)"
   ]
  },
  {
   "cell_type": "code",
   "execution_count": 10,
   "metadata": {
    "colab": {
     "background_save": true,
     "base_uri": "https://localhost:8080/",
     "height": 187
    },
    "id": "0vguWj8Y3YOX",
    "outputId": "b835ad14-88f8-4fbc-f3a9-2135da08f801"
   },
   "outputs": [
    {
     "name": "stdout",
     "output_type": "stream",
     "text": [
      "<class 'pandas.core.frame.DataFrame'>\n",
      "Int64Index: 3297172 entries, 0 to 3297171\n",
      "Data columns (total 3 columns):\n",
      " #   Column             Dtype \n",
      "---  ------             ----- \n",
      " 0   publish_date       int64 \n",
      " 1   headline_category  object\n",
      " 2   headline_text      object\n",
      "dtypes: int64(1), object(2)\n",
      "memory usage: 100.6+ MB\n"
     ]
    }
   ],
   "source": [
    "data.info()"
   ]
  },
  {
   "cell_type": "code",
   "execution_count": 11,
   "metadata": {
    "colab": {
     "background_save": true,
     "base_uri": "https://localhost:8080/",
     "height": 204
    },
    "id": "PAb2GfmR3Zqs",
    "outputId": "ddc2e2b0-5e8f-4098-995d-b20d820aca67"
   },
   "outputs": [
    {
     "data": {
      "text/html": [
       "<div>\n",
       "<style scoped>\n",
       "    .dataframe tbody tr th:only-of-type {\n",
       "        vertical-align: middle;\n",
       "    }\n",
       "\n",
       "    .dataframe tbody tr th {\n",
       "        vertical-align: top;\n",
       "    }\n",
       "\n",
       "    .dataframe thead th {\n",
       "        text-align: right;\n",
       "    }\n",
       "</style>\n",
       "<table border=\"1\" class=\"dataframe\">\n",
       "  <thead>\n",
       "    <tr style=\"text-align: right;\">\n",
       "      <th></th>\n",
       "      <th>publish_date</th>\n",
       "      <th>headline_text</th>\n",
       "    </tr>\n",
       "  </thead>\n",
       "  <tbody>\n",
       "    <tr>\n",
       "      <th>0</th>\n",
       "      <td>20010101</td>\n",
       "      <td>win over cena satisfying but defeating underta...</td>\n",
       "    </tr>\n",
       "    <tr>\n",
       "      <th>1</th>\n",
       "      <td>20010102</td>\n",
       "      <td>Status quo will not be disturbed at Ayodhya; s...</td>\n",
       "    </tr>\n",
       "    <tr>\n",
       "      <th>2</th>\n",
       "      <td>20010102</td>\n",
       "      <td>Fissures in Hurriyat over Pak visit</td>\n",
       "    </tr>\n",
       "    <tr>\n",
       "      <th>3</th>\n",
       "      <td>20010102</td>\n",
       "      <td>America's unwanted heading for India?</td>\n",
       "    </tr>\n",
       "    <tr>\n",
       "      <th>4</th>\n",
       "      <td>20010102</td>\n",
       "      <td>For bigwigs; it is destination Goa</td>\n",
       "    </tr>\n",
       "  </tbody>\n",
       "</table>\n",
       "</div>"
      ],
      "text/plain": [
       "   publish_date                                      headline_text\n",
       "0      20010101  win over cena satisfying but defeating underta...\n",
       "1      20010102  Status quo will not be disturbed at Ayodhya; s...\n",
       "2      20010102                Fissures in Hurriyat over Pak visit\n",
       "3      20010102              America's unwanted heading for India?\n",
       "4      20010102                 For bigwigs; it is destination Goa"
      ]
     },
     "execution_count": 11,
     "metadata": {},
     "output_type": "execute_result"
    }
   ],
   "source": [
    "dataset=data.drop(['headline_category'],axis=1)\n",
    "dataset.head()"
   ]
  },
  {
   "cell_type": "code",
   "execution_count": 12,
   "metadata": {
    "colab": {
     "background_save": true,
     "base_uri": "https://localhost:8080/",
     "height": 204
    },
    "id": "i_hTJ6LU32fE",
    "outputId": "075367e5-7a2a-48f6-dd0c-63e9f406b5a5"
   },
   "outputs": [
    {
     "data": {
      "text/html": [
       "<div>\n",
       "<style scoped>\n",
       "    .dataframe tbody tr th:only-of-type {\n",
       "        vertical-align: middle;\n",
       "    }\n",
       "\n",
       "    .dataframe tbody tr th {\n",
       "        vertical-align: top;\n",
       "    }\n",
       "\n",
       "    .dataframe thead th {\n",
       "        text-align: right;\n",
       "    }\n",
       "</style>\n",
       "<table border=\"1\" class=\"dataframe\">\n",
       "  <thead>\n",
       "    <tr style=\"text-align: right;\">\n",
       "      <th></th>\n",
       "      <th>publish_date</th>\n",
       "      <th>headline_text</th>\n",
       "    </tr>\n",
       "  </thead>\n",
       "  <tbody>\n",
       "    <tr>\n",
       "      <th>0</th>\n",
       "      <td>2001-01-01</td>\n",
       "      <td>win over cena satisfying but defeating underta...</td>\n",
       "    </tr>\n",
       "    <tr>\n",
       "      <th>1</th>\n",
       "      <td>2001-01-02</td>\n",
       "      <td>Status quo will not be disturbed at Ayodhya; s...</td>\n",
       "    </tr>\n",
       "    <tr>\n",
       "      <th>2</th>\n",
       "      <td>2001-01-02</td>\n",
       "      <td>Fissures in Hurriyat over Pak visit</td>\n",
       "    </tr>\n",
       "    <tr>\n",
       "      <th>3</th>\n",
       "      <td>2001-01-02</td>\n",
       "      <td>America's unwanted heading for India?</td>\n",
       "    </tr>\n",
       "    <tr>\n",
       "      <th>4</th>\n",
       "      <td>2001-01-02</td>\n",
       "      <td>For bigwigs; it is destination Goa</td>\n",
       "    </tr>\n",
       "  </tbody>\n",
       "</table>\n",
       "</div>"
      ],
      "text/plain": [
       "  publish_date                                      headline_text\n",
       "0   2001-01-01  win over cena satisfying but defeating underta...\n",
       "1   2001-01-02  Status quo will not be disturbed at Ayodhya; s...\n",
       "2   2001-01-02                Fissures in Hurriyat over Pak visit\n",
       "3   2001-01-02              America's unwanted heading for India?\n",
       "4   2001-01-02                 For bigwigs; it is destination Goa"
      ]
     },
     "execution_count": 12,
     "metadata": {},
     "output_type": "execute_result"
    }
   ],
   "source": [
    "dataset['publish_date']=pd.to_datetime(dataset['publish_date'],format='%Y%m%d')\n",
    "dataset.head()\n"
   ]
  },
  {
   "cell_type": "code",
   "execution_count": 13,
   "metadata": {
    "colab": {
     "background_save": true
    },
    "id": "sjnUN2Qe41kq"
   },
   "outputs": [
    {
     "data": {
      "text/html": [
       "<div>\n",
       "<style scoped>\n",
       "    .dataframe tbody tr th:only-of-type {\n",
       "        vertical-align: middle;\n",
       "    }\n",
       "\n",
       "    .dataframe tbody tr th {\n",
       "        vertical-align: top;\n",
       "    }\n",
       "\n",
       "    .dataframe thead th {\n",
       "        text-align: right;\n",
       "    }\n",
       "</style>\n",
       "<table border=\"1\" class=\"dataframe\">\n",
       "  <thead>\n",
       "    <tr style=\"text-align: right;\">\n",
       "      <th></th>\n",
       "      <th>publish_date</th>\n",
       "      <th>headline_text</th>\n",
       "    </tr>\n",
       "  </thead>\n",
       "  <tbody>\n",
       "    <tr>\n",
       "      <th>0</th>\n",
       "      <td>2001-01-01</td>\n",
       "      <td>win over cena satisfying but defeating underta...</td>\n",
       "    </tr>\n",
       "    <tr>\n",
       "      <th>1</th>\n",
       "      <td>2001-01-02</td>\n",
       "      <td>Status quo will not be disturbed at Ayodhya; s...</td>\n",
       "    </tr>\n",
       "    <tr>\n",
       "      <th>87</th>\n",
       "      <td>2001-01-03</td>\n",
       "      <td>Powerless north India gropes in the darkThink ...</td>\n",
       "    </tr>\n",
       "    <tr>\n",
       "      <th>128</th>\n",
       "      <td>2001-01-04</td>\n",
       "      <td>The string that pulled Stephen Hawking to Indi...</td>\n",
       "    </tr>\n",
       "    <tr>\n",
       "      <th>281</th>\n",
       "      <td>2001-01-05</td>\n",
       "      <td>Light combat craft takes India into club class...</td>\n",
       "    </tr>\n",
       "    <tr>\n",
       "      <th>...</th>\n",
       "      <td>...</td>\n",
       "      <td>...</td>\n",
       "    </tr>\n",
       "    <tr>\n",
       "      <th>3294593</th>\n",
       "      <td>2020-06-26</td>\n",
       "      <td>Containment zone residents slam high prices ch...</td>\n",
       "    </tr>\n",
       "    <tr>\n",
       "      <th>3295093</th>\n",
       "      <td>2020-06-27</td>\n",
       "      <td>like me i wont let you have a toxic relationsh...</td>\n",
       "    </tr>\n",
       "    <tr>\n",
       "      <th>3295620</th>\n",
       "      <td>2020-06-28</td>\n",
       "      <td>Atanu Ghosh plans to rewrite old scripts to ma...</td>\n",
       "    </tr>\n",
       "    <tr>\n",
       "      <th>3296120</th>\n",
       "      <td>2020-06-29</td>\n",
       "      <td>6 hot and stylish bikini looks of Katrina Kaif...</td>\n",
       "    </tr>\n",
       "    <tr>\n",
       "      <th>3296636</th>\n",
       "      <td>2020-06-30</td>\n",
       "      <td>Detective Byomkesh Bakshy!Edge of TomorrowFirs...</td>\n",
       "    </tr>\n",
       "  </tbody>\n",
       "</table>\n",
       "<p>7080 rows × 2 columns</p>\n",
       "</div>"
      ],
      "text/plain": [
       "        publish_date                                      headline_text\n",
       "0         2001-01-01  win over cena satisfying but defeating underta...\n",
       "1         2001-01-02  Status quo will not be disturbed at Ayodhya; s...\n",
       "87        2001-01-03  Powerless north India gropes in the darkThink ...\n",
       "128       2001-01-04  The string that pulled Stephen Hawking to Indi...\n",
       "281       2001-01-05  Light combat craft takes India into club class...\n",
       "...              ...                                                ...\n",
       "3294593   2020-06-26  Containment zone residents slam high prices ch...\n",
       "3295093   2020-06-27  like me i wont let you have a toxic relationsh...\n",
       "3295620   2020-06-28  Atanu Ghosh plans to rewrite old scripts to ma...\n",
       "3296120   2020-06-29  6 hot and stylish bikini looks of Katrina Kaif...\n",
       "3296636   2020-06-30  Detective Byomkesh Bakshy!Edge of TomorrowFirs...\n",
       "\n",
       "[7080 rows x 2 columns]"
      ]
     },
     "execution_count": 13,
     "metadata": {},
     "output_type": "execute_result"
    }
   ],
   "source": [
    "dataset['headline_text']=dataset.groupby(['publish_date']).transform(lambda x:''.join(x))\n",
    "dataset=dataset.drop_duplicates()\n",
    "dataset"
   ]
  },
  {
   "cell_type": "code",
   "execution_count": 14,
   "metadata": {},
   "outputs": [
    {
     "data": {
      "text/plain": [
       "0          win over cena satisfying but defeating underta...\n",
       "1          Status quo will not be disturbed at Ayodhya; s...\n",
       "87         Powerless north India gropes in the darkThink ...\n",
       "128        The string that pulled Stephen Hawking to Indi...\n",
       "281        Light combat craft takes India into club class...\n",
       "                                 ...                        \n",
       "3294593    Containment zone residents slam high prices ch...\n",
       "3295093    like me i wont let you have a toxic relationsh...\n",
       "3295620    Atanu Ghosh plans to rewrite old scripts to ma...\n",
       "3296120    6 hot and stylish bikini looks of Katrina Kaif...\n",
       "3296636    Detective Byomkesh Bakshy!Edge of TomorrowFirs...\n",
       "Name: headline_text, Length: 7080, dtype: object"
      ]
     },
     "execution_count": 14,
     "metadata": {},
     "output_type": "execute_result"
    }
   ],
   "source": [
    "dataset['headline_text']"
   ]
  },
  {
   "cell_type": "code",
   "execution_count": 27,
   "metadata": {},
   "outputs": [],
   "source": [
    "dataset['headline_text'] = dataset['headline_text'].str.replace('[^a-zA-Z]', ' ')"
   ]
  },
  {
   "cell_type": "code",
   "execution_count": 28,
   "metadata": {},
   "outputs": [],
   "source": [
    "def getSubjectivity(text):\n",
    "    return TextBlob(text).sentiment.subjectivity\n",
    "def getPolarity(text):\n",
    "    return TextBlob(text).sentiment.polarity"
   ]
  },
  {
   "cell_type": "code",
   "execution_count": 29,
   "metadata": {},
   "outputs": [],
   "source": [
    "dataset['Subjectivity']=dataset['headline_text'].apply(getSubjectivity)\n",
    "dataset['Polarity']=dataset['headline_text'].apply(getPolarity)"
   ]
  },
  {
   "cell_type": "code",
   "execution_count": 37,
   "metadata": {},
   "outputs": [
    {
     "data": {
      "text/html": [
       "<div>\n",
       "<style scoped>\n",
       "    .dataframe tbody tr th:only-of-type {\n",
       "        vertical-align: middle;\n",
       "    }\n",
       "\n",
       "    .dataframe tbody tr th {\n",
       "        vertical-align: top;\n",
       "    }\n",
       "\n",
       "    .dataframe thead th {\n",
       "        text-align: right;\n",
       "    }\n",
       "</style>\n",
       "<table border=\"1\" class=\"dataframe\">\n",
       "  <thead>\n",
       "    <tr style=\"text-align: right;\">\n",
       "      <th></th>\n",
       "      <th>publish_date</th>\n",
       "      <th>headline_text</th>\n",
       "      <th>Subjectivity</th>\n",
       "      <th>Polarity</th>\n",
       "      <th>text_clean</th>\n",
       "      <th>char_cnt</th>\n",
       "      <th>word_cnt</th>\n",
       "      <th>avg_word_length</th>\n",
       "    </tr>\n",
       "  </thead>\n",
       "  <tbody>\n",
       "    <tr>\n",
       "      <th>0</th>\n",
       "      <td>2001-01-01</td>\n",
       "      <td>win over cena satisfying but defeating underta...</td>\n",
       "      <td>0.633333</td>\n",
       "      <td>0.433333</td>\n",
       "      <td>win over cena satisfying but defeating underta...</td>\n",
       "      <td>69</td>\n",
       "      <td>10</td>\n",
       "      <td>0.144928</td>\n",
       "    </tr>\n",
       "    <tr>\n",
       "      <th>1</th>\n",
       "      <td>2001-01-02</td>\n",
       "      <td>status quo will not be disturbed at ayodhya  s...</td>\n",
       "      <td>0.262963</td>\n",
       "      <td>0.104630</td>\n",
       "      <td>status quo will not be disturbed at ayodhya  s...</td>\n",
       "      <td>3238</td>\n",
       "      <td>489</td>\n",
       "      <td>0.151019</td>\n",
       "    </tr>\n",
       "    <tr>\n",
       "      <th>87</th>\n",
       "      <td>2001-01-03</td>\n",
       "      <td>powerless north india gropes in the darkthink ...</td>\n",
       "      <td>0.432500</td>\n",
       "      <td>0.107500</td>\n",
       "      <td>powerless north india gropes in the darkthink ...</td>\n",
       "      <td>1401</td>\n",
       "      <td>212</td>\n",
       "      <td>0.151320</td>\n",
       "    </tr>\n",
       "    <tr>\n",
       "      <th>128</th>\n",
       "      <td>2001-01-04</td>\n",
       "      <td>the string that pulled stephen hawking to indi...</td>\n",
       "      <td>0.511540</td>\n",
       "      <td>0.127977</td>\n",
       "      <td>the string that pulled stephen hawking to indi...</td>\n",
       "      <td>5703</td>\n",
       "      <td>828</td>\n",
       "      <td>0.145187</td>\n",
       "    </tr>\n",
       "    <tr>\n",
       "      <th>281</th>\n",
       "      <td>2001-01-05</td>\n",
       "      <td>light combat craft takes india into club class...</td>\n",
       "      <td>0.464036</td>\n",
       "      <td>0.255190</td>\n",
       "      <td>light combat craft takes india into club class...</td>\n",
       "      <td>4886</td>\n",
       "      <td>725</td>\n",
       "      <td>0.148383</td>\n",
       "    </tr>\n",
       "  </tbody>\n",
       "</table>\n",
       "</div>"
      ],
      "text/plain": [
       "    publish_date                                      headline_text  \\\n",
       "0     2001-01-01  win over cena satisfying but defeating underta...   \n",
       "1     2001-01-02  status quo will not be disturbed at ayodhya  s...   \n",
       "87    2001-01-03  powerless north india gropes in the darkthink ...   \n",
       "128   2001-01-04  the string that pulled stephen hawking to indi...   \n",
       "281   2001-01-05  light combat craft takes india into club class...   \n",
       "\n",
       "     Subjectivity  Polarity  \\\n",
       "0        0.633333  0.433333   \n",
       "1        0.262963  0.104630   \n",
       "87       0.432500  0.107500   \n",
       "128      0.511540  0.127977   \n",
       "281      0.464036  0.255190   \n",
       "\n",
       "                                            text_clean  char_cnt  word_cnt  \\\n",
       "0    win over cena satisfying but defeating underta...        69        10   \n",
       "1    status quo will not be disturbed at ayodhya  s...      3238       489   \n",
       "87   powerless north india gropes in the darkthink ...      1401       212   \n",
       "128  the string that pulled stephen hawking to indi...      5703       828   \n",
       "281  light combat craft takes india into club class...      4886       725   \n",
       "\n",
       "     avg_word_length  \n",
       "0           0.144928  \n",
       "1           0.151019  \n",
       "87          0.151320  \n",
       "128         0.145187  \n",
       "281         0.148383  "
      ]
     },
     "execution_count": 37,
     "metadata": {},
     "output_type": "execute_result"
    }
   ],
   "source": [
    "dataset['headline_text'] = dataset['headline_text'].str.lower()\n",
    "dataset['char_cnt'] = dataset['headline_text'].str.len()\n",
    "dataset['word_cnt'] = dataset['headline_text'].str.split().str.len()\n",
    "\n",
    "# Find the average length of word\n",
    "dataset['avg_word_length'] = dataset['word_cnt']/ dataset['char_cnt']\n",
    "\n",
    "dataset.head()"
   ]
  },
  {
   "cell_type": "code",
   "execution_count": 39,
   "metadata": {},
   "outputs": [],
   "source": [
    "dataset.drop(['text_clean'],inplace=True,axis=1)"
   ]
  },
  {
   "cell_type": "code",
   "execution_count": 46,
   "metadata": {},
   "outputs": [
    {
     "data": {
      "text/plain": [
       "Text(0.5, 1.0, 'Polarity in dataset')"
      ]
     },
     "execution_count": 46,
     "metadata": {},
     "output_type": "execute_result"
    },
    {
     "data": {
      "image/png": "[encoded data removed]",
      "text/plain": [
       "<Figure size 1440x576 with 1 Axes>"
      ]
     },
     "metadata": {
      "needs_background": "light"
     },
     "output_type": "display_data"
    }
   ],
   "source": [
    "dataset['Polarity'].hist(figsize=(20,8))\n",
    "plt.title('Polarity in dataset')"
   ]
  },
  {
   "cell_type": "code",
   "execution_count": 47,
   "metadata": {},
   "outputs": [
    {
     "data": {
      "text/plain": [
       "Text(0.5, 1.0, 'Subjectivity in dataset')"
      ]
     },
     "execution_count": 47,
     "metadata": {},
     "output_type": "execute_result"
    },
    {
     "data": {
      "image/png": "[encoded data removed]",
      "text/plain": [
       "<Figure size 1440x576 with 1 Axes>"
      ]
     },
     "metadata": {
      "needs_background": "light"
     },
     "output_type": "display_data"
    }
   ],
   "source": [
    "dataset['Subjectivity'].hist(figsize=(20,8))\n",
    "plt.title('Subjectivity in dataset')"
   ]
  },
  {
   "cell_type": "code",
   "execution_count": 48,
   "metadata": {},
   "outputs": [
    {
     "data": {
      "text/plain": [
       "Text(0.5, 1.0, 'Character count in dataset')"
      ]
     },
     "execution_count": 48,
     "metadata": {},
     "output_type": "execute_result"
    },
    {
     "data": {
      "image/png": "[encoded data removed]",
      "text/plain": [
       "<Figure size 1440x576 with 1 Axes>"
      ]
     },
     "metadata": {
      "needs_background": "light"
     },
     "output_type": "display_data"
    }
   ],
   "source": [
    "dataset['char_cnt'].plot.area(figsize=(20,8))\n",
    "plt.title('Character count in dataset')"
   ]
  },
  {
   "cell_type": "code",
   "execution_count": 49,
   "metadata": {},
   "outputs": [
    {
     "data": {
      "text/plain": [
       "Text(0.5, 1.0, 'Word Count in Dataset')"
      ]
     },
     "execution_count": 49,
     "metadata": {},
     "output_type": "execute_result"
    },
    {
     "data": {
      "image/png": "[encoded data removed]",
      "text/plain": [
       "<Figure size 1440x576 with 1 Axes>"
      ]
     },
     "metadata": {
      "needs_background": "light"
     },
     "output_type": "display_data"
    }
   ],
   "source": [
    "dataset['word_cnt'].plot.area(figsize=(20,8))\n",
    "plt.title('Word Count in Dataset')"
   ]
  },
  {
   "cell_type": "code",
   "execution_count": 50,
   "metadata": {},
   "outputs": [
    {
     "data": {
      "text/plain": [
       "Text(0.5, 1.0, 'Average word length in dataset')"
      ]
     },
     "execution_count": 50,
     "metadata": {},
     "output_type": "execute_result"
    },
    {
     "data": {
      "image/png": "[encoded data removed]",
      "text/plain": [
       "<Figure size 1440x576 with 1 Axes>"
      ]
     },
     "metadata": {
      "needs_background": "light"
     },
     "output_type": "display_data"
    }
   ],
   "source": [
    "dataset['avg_word_length'].plot.area(figsize=(20,8))\n",
    "plt.title('Average word length in dataset')"
   ]
  },
  {
   "cell_type": "code",
   "execution_count": 51,
   "metadata": {},
   "outputs": [
    {
     "data": {
      "text/html": [
       "<div>\n",
       "<style scoped>\n",
       "    .dataframe tbody tr th:only-of-type {\n",
       "        vertical-align: middle;\n",
       "    }\n",
       "\n",
       "    .dataframe tbody tr th {\n",
       "        vertical-align: top;\n",
       "    }\n",
       "\n",
       "    .dataframe thead th {\n",
       "        text-align: right;\n",
       "    }\n",
       "</style>\n",
       "<table border=\"1\" class=\"dataframe\">\n",
       "  <thead>\n",
       "    <tr style=\"text-align: right;\">\n",
       "      <th></th>\n",
       "      <th>publish_date</th>\n",
       "      <th>headline_text</th>\n",
       "      <th>Subjectivity</th>\n",
       "      <th>Polarity</th>\n",
       "      <th>char_cnt</th>\n",
       "      <th>word_cnt</th>\n",
       "      <th>avg_word_length</th>\n",
       "      <th>Compound</th>\n",
       "      <th>Negative</th>\n",
       "      <th>Neutral</th>\n",
       "      <th>Positive</th>\n",
       "    </tr>\n",
       "  </thead>\n",
       "  <tbody>\n",
       "    <tr>\n",
       "      <th>0</th>\n",
       "      <td>2001-01-01</td>\n",
       "      <td>win over cena satisfying but defeating underta...</td>\n",
       "      <td>0.633333</td>\n",
       "      <td>0.433333</td>\n",
       "      <td>69</td>\n",
       "      <td>10</td>\n",
       "      <td>0.144928</td>\n",
       "      <td>-0.0000</td>\n",
       "      <td>0.230</td>\n",
       "      <td>0.473</td>\n",
       "      <td>0.297</td>\n",
       "    </tr>\n",
       "    <tr>\n",
       "      <th>1</th>\n",
       "      <td>2001-01-02</td>\n",
       "      <td>status quo will not be disturbed at ayodhya  s...</td>\n",
       "      <td>0.262963</td>\n",
       "      <td>0.104630</td>\n",
       "      <td>3238</td>\n",
       "      <td>489</td>\n",
       "      <td>0.151019</td>\n",
       "      <td>-0.9322</td>\n",
       "      <td>0.104</td>\n",
       "      <td>0.824</td>\n",
       "      <td>0.072</td>\n",
       "    </tr>\n",
       "    <tr>\n",
       "      <th>87</th>\n",
       "      <td>2001-01-03</td>\n",
       "      <td>powerless north india gropes in the darkthink ...</td>\n",
       "      <td>0.432500</td>\n",
       "      <td>0.107500</td>\n",
       "      <td>1401</td>\n",
       "      <td>212</td>\n",
       "      <td>0.151320</td>\n",
       "      <td>-0.5106</td>\n",
       "      <td>0.115</td>\n",
       "      <td>0.792</td>\n",
       "      <td>0.093</td>\n",
       "    </tr>\n",
       "    <tr>\n",
       "      <th>128</th>\n",
       "      <td>2001-01-04</td>\n",
       "      <td>the string that pulled stephen hawking to indi...</td>\n",
       "      <td>0.511540</td>\n",
       "      <td>0.127977</td>\n",
       "      <td>5703</td>\n",
       "      <td>828</td>\n",
       "      <td>0.145187</td>\n",
       "      <td>0.0717</td>\n",
       "      <td>0.096</td>\n",
       "      <td>0.816</td>\n",
       "      <td>0.088</td>\n",
       "    </tr>\n",
       "    <tr>\n",
       "      <th>281</th>\n",
       "      <td>2001-01-05</td>\n",
       "      <td>light combat craft takes india into club class...</td>\n",
       "      <td>0.464036</td>\n",
       "      <td>0.255190</td>\n",
       "      <td>4886</td>\n",
       "      <td>725</td>\n",
       "      <td>0.148383</td>\n",
       "      <td>0.9949</td>\n",
       "      <td>0.113</td>\n",
       "      <td>0.711</td>\n",
       "      <td>0.177</td>\n",
       "    </tr>\n",
       "  </tbody>\n",
       "</table>\n",
       "</div>"
      ],
      "text/plain": [
       "    publish_date                                      headline_text  \\\n",
       "0     2001-01-01  win over cena satisfying but defeating underta...   \n",
       "1     2001-01-02  status quo will not be disturbed at ayodhya  s...   \n",
       "87    2001-01-03  powerless north india gropes in the darkthink ...   \n",
       "128   2001-01-04  the string that pulled stephen hawking to indi...   \n",
       "281   2001-01-05  light combat craft takes india into club class...   \n",
       "\n",
       "     Subjectivity  Polarity  char_cnt  word_cnt  avg_word_length  Compound  \\\n",
       "0        0.633333  0.433333        69        10         0.144928   -0.0000   \n",
       "1        0.262963  0.104630      3238       489         0.151019   -0.9322   \n",
       "87       0.432500  0.107500      1401       212         0.151320   -0.5106   \n",
       "128      0.511540  0.127977      5703       828         0.145187    0.0717   \n",
       "281      0.464036  0.255190      4886       725         0.148383    0.9949   \n",
       "\n",
       "     Negative  Neutral  Positive  \n",
       "0       0.230    0.473     0.297  \n",
       "1       0.104    0.824     0.072  \n",
       "87      0.115    0.792     0.093  \n",
       "128     0.096    0.816     0.088  \n",
       "281     0.113    0.711     0.177  "
      ]
     },
     "execution_count": 51,
     "metadata": {},
     "output_type": "execute_result"
    }
   ],
   "source": [
    "sia=SentimentIntensityAnalyzer()\n",
    "dataset['Compound']=[sia.polarity_scores(v)['compound'] for v in dataset['headline_text']]\n",
    "dataset['Negative']=[sia.polarity_scores(v)['neg'] for v in dataset['headline_text']]\n",
    "dataset['Neutral']=[sia.polarity_scores(v)['neu'] for v in dataset['headline_text']]\n",
    "dataset['Positive']=[sia.polarity_scores(v)['pos'] for v in dataset['headline_text']]\n",
    "dataset.head()"
   ]
  },
  {
   "cell_type": "code",
   "execution_count": 52,
   "metadata": {},
   "outputs": [
    {
     "data": {
      "text/html": [
       "<div>\n",
       "<style scoped>\n",
       "    .dataframe tbody tr th:only-of-type {\n",
       "        vertical-align: middle;\n",
       "    }\n",
       "\n",
       "    .dataframe tbody tr th {\n",
       "        vertical-align: top;\n",
       "    }\n",
       "\n",
       "    .dataframe thead th {\n",
       "        text-align: right;\n",
       "    }\n",
       "</style>\n",
       "<table border=\"1\" class=\"dataframe\">\n",
       "  <thead>\n",
       "    <tr style=\"text-align: right;\">\n",
       "      <th></th>\n",
       "      <th>publish_date</th>\n",
       "      <th>headline_text</th>\n",
       "      <th>Subjectivity</th>\n",
       "      <th>Polarity</th>\n",
       "      <th>char_cnt</th>\n",
       "      <th>word_cnt</th>\n",
       "      <th>avg_word_length</th>\n",
       "      <th>Compound</th>\n",
       "      <th>Negative</th>\n",
       "      <th>Neutral</th>\n",
       "      <th>Positive</th>\n",
       "    </tr>\n",
       "  </thead>\n",
       "  <tbody>\n",
       "    <tr>\n",
       "      <th>0</th>\n",
       "      <td>2001-01-01</td>\n",
       "      <td>win over cena satisfying but defeating underta...</td>\n",
       "      <td>0.633333</td>\n",
       "      <td>0.433333</td>\n",
       "      <td>69</td>\n",
       "      <td>10</td>\n",
       "      <td>0.144928</td>\n",
       "      <td>-0.0000</td>\n",
       "      <td>0.230</td>\n",
       "      <td>0.473</td>\n",
       "      <td>0.297</td>\n",
       "    </tr>\n",
       "    <tr>\n",
       "      <th>1</th>\n",
       "      <td>2001-01-02</td>\n",
       "      <td>status quo will not be disturbed at ayodhya  s...</td>\n",
       "      <td>0.262963</td>\n",
       "      <td>0.104630</td>\n",
       "      <td>3238</td>\n",
       "      <td>489</td>\n",
       "      <td>0.151019</td>\n",
       "      <td>-0.9322</td>\n",
       "      <td>0.104</td>\n",
       "      <td>0.824</td>\n",
       "      <td>0.072</td>\n",
       "    </tr>\n",
       "    <tr>\n",
       "      <th>87</th>\n",
       "      <td>2001-01-03</td>\n",
       "      <td>powerless north india gropes in the darkthink ...</td>\n",
       "      <td>0.432500</td>\n",
       "      <td>0.107500</td>\n",
       "      <td>1401</td>\n",
       "      <td>212</td>\n",
       "      <td>0.151320</td>\n",
       "      <td>-0.5106</td>\n",
       "      <td>0.115</td>\n",
       "      <td>0.792</td>\n",
       "      <td>0.093</td>\n",
       "    </tr>\n",
       "    <tr>\n",
       "      <th>128</th>\n",
       "      <td>2001-01-04</td>\n",
       "      <td>the string that pulled stephen hawking to indi...</td>\n",
       "      <td>0.511540</td>\n",
       "      <td>0.127977</td>\n",
       "      <td>5703</td>\n",
       "      <td>828</td>\n",
       "      <td>0.145187</td>\n",
       "      <td>0.0717</td>\n",
       "      <td>0.096</td>\n",
       "      <td>0.816</td>\n",
       "      <td>0.088</td>\n",
       "    </tr>\n",
       "    <tr>\n",
       "      <th>281</th>\n",
       "      <td>2001-01-05</td>\n",
       "      <td>light combat craft takes india into club class...</td>\n",
       "      <td>0.464036</td>\n",
       "      <td>0.255190</td>\n",
       "      <td>4886</td>\n",
       "      <td>725</td>\n",
       "      <td>0.148383</td>\n",
       "      <td>0.9949</td>\n",
       "      <td>0.113</td>\n",
       "      <td>0.711</td>\n",
       "      <td>0.177</td>\n",
       "    </tr>\n",
       "    <tr>\n",
       "      <th>...</th>\n",
       "      <td>...</td>\n",
       "      <td>...</td>\n",
       "      <td>...</td>\n",
       "      <td>...</td>\n",
       "      <td>...</td>\n",
       "      <td>...</td>\n",
       "      <td>...</td>\n",
       "      <td>...</td>\n",
       "      <td>...</td>\n",
       "      <td>...</td>\n",
       "      <td>...</td>\n",
       "    </tr>\n",
       "    <tr>\n",
       "      <th>3294593</th>\n",
       "      <td>2020-06-26</td>\n",
       "      <td>containment zone residents slam high prices ch...</td>\n",
       "      <td>0.370603</td>\n",
       "      <td>0.072293</td>\n",
       "      <td>27527</td>\n",
       "      <td>4051</td>\n",
       "      <td>0.147165</td>\n",
       "      <td>-0.9999</td>\n",
       "      <td>0.161</td>\n",
       "      <td>0.751</td>\n",
       "      <td>0.089</td>\n",
       "    </tr>\n",
       "    <tr>\n",
       "      <th>3295093</th>\n",
       "      <td>2020-06-27</td>\n",
       "      <td>like me i wont let you have a toxic relationsh...</td>\n",
       "      <td>0.380464</td>\n",
       "      <td>0.084433</td>\n",
       "      <td>29851</td>\n",
       "      <td>4398</td>\n",
       "      <td>0.147332</td>\n",
       "      <td>-0.9999</td>\n",
       "      <td>0.148</td>\n",
       "      <td>0.758</td>\n",
       "      <td>0.094</td>\n",
       "    </tr>\n",
       "    <tr>\n",
       "      <th>3295620</th>\n",
       "      <td>2020-06-28</td>\n",
       "      <td>atanu ghosh plans to rewrite old scripts to ma...</td>\n",
       "      <td>0.386141</td>\n",
       "      <td>0.074113</td>\n",
       "      <td>27476</td>\n",
       "      <td>4029</td>\n",
       "      <td>0.146637</td>\n",
       "      <td>-0.9998</td>\n",
       "      <td>0.137</td>\n",
       "      <td>0.788</td>\n",
       "      <td>0.076</td>\n",
       "    </tr>\n",
       "    <tr>\n",
       "      <th>3296120</th>\n",
       "      <td>2020-06-29</td>\n",
       "      <td>hot and stylish bikini looks of katrina kaif...</td>\n",
       "      <td>0.380647</td>\n",
       "      <td>0.056804</td>\n",
       "      <td>29290</td>\n",
       "      <td>4277</td>\n",
       "      <td>0.146023</td>\n",
       "      <td>-0.9997</td>\n",
       "      <td>0.130</td>\n",
       "      <td>0.784</td>\n",
       "      <td>0.086</td>\n",
       "    </tr>\n",
       "    <tr>\n",
       "      <th>3296636</th>\n",
       "      <td>2020-06-30</td>\n",
       "      <td>detective byomkesh bakshy edge of tomorrowfirs...</td>\n",
       "      <td>0.375745</td>\n",
       "      <td>0.070235</td>\n",
       "      <td>29894</td>\n",
       "      <td>4383</td>\n",
       "      <td>0.146618</td>\n",
       "      <td>-0.9999</td>\n",
       "      <td>0.129</td>\n",
       "      <td>0.805</td>\n",
       "      <td>0.066</td>\n",
       "    </tr>\n",
       "  </tbody>\n",
       "</table>\n",
       "<p>7080 rows × 11 columns</p>\n",
       "</div>"
      ],
      "text/plain": [
       "        publish_date                                      headline_text  \\\n",
       "0         2001-01-01  win over cena satisfying but defeating underta...   \n",
       "1         2001-01-02  status quo will not be disturbed at ayodhya  s...   \n",
       "87        2001-01-03  powerless north india gropes in the darkthink ...   \n",
       "128       2001-01-04  the string that pulled stephen hawking to indi...   \n",
       "281       2001-01-05  light combat craft takes india into club class...   \n",
       "...              ...                                                ...   \n",
       "3294593   2020-06-26  containment zone residents slam high prices ch...   \n",
       "3295093   2020-06-27  like me i wont let you have a toxic relationsh...   \n",
       "3295620   2020-06-28  atanu ghosh plans to rewrite old scripts to ma...   \n",
       "3296120   2020-06-29    hot and stylish bikini looks of katrina kaif...   \n",
       "3296636   2020-06-30  detective byomkesh bakshy edge of tomorrowfirs...   \n",
       "\n",
       "         Subjectivity  Polarity  char_cnt  word_cnt  avg_word_length  \\\n",
       "0            0.633333  0.433333        69        10         0.144928   \n",
       "1            0.262963  0.104630      3238       489         0.151019   \n",
       "87           0.432500  0.107500      1401       212         0.151320   \n",
       "128          0.511540  0.127977      5703       828         0.145187   \n",
       "281          0.464036  0.255190      4886       725         0.148383   \n",
       "...               ...       ...       ...       ...              ...   \n",
       "3294593      0.370603  0.072293     27527      4051         0.147165   \n",
       "3295093      0.380464  0.084433     29851      4398         0.147332   \n",
       "3295620      0.386141  0.074113     27476      4029         0.146637   \n",
       "3296120      0.380647  0.056804     29290      4277         0.146023   \n",
       "3296636      0.375745  0.070235     29894      4383         0.146618   \n",
       "\n",
       "         Compound  Negative  Neutral  Positive  \n",
       "0         -0.0000     0.230    0.473     0.297  \n",
       "1         -0.9322     0.104    0.824     0.072  \n",
       "87        -0.5106     0.115    0.792     0.093  \n",
       "128        0.0717     0.096    0.816     0.088  \n",
       "281        0.9949     0.113    0.711     0.177  \n",
       "...           ...       ...      ...       ...  \n",
       "3294593   -0.9999     0.161    0.751     0.089  \n",
       "3295093   -0.9999     0.148    0.758     0.094  \n",
       "3295620   -0.9998     0.137    0.788     0.076  \n",
       "3296120   -0.9997     0.130    0.784     0.086  \n",
       "3296636   -0.9999     0.129    0.805     0.066  \n",
       "\n",
       "[7080 rows x 11 columns]"
      ]
     },
     "execution_count": 52,
     "metadata": {},
     "output_type": "execute_result"
    }
   ],
   "source": [
    "dataset"
   ]
  },
  {
   "cell_type": "code",
   "execution_count": 64,
   "metadata": {},
   "outputs": [
    {
     "data": {
      "text/plain": [
       "Text(0.5, 1.0, 'Neutral Score')"
      ]
     },
     "execution_count": 64,
     "metadata": {},
     "output_type": "execute_result"
    },
    {
     "data": {
      "image/png": "[encoded data removed]",
      "text/plain": [
       "<Figure size 720x576 with 4 Axes>"
      ]
     },
     "metadata": {
      "needs_background": "light"
     },
     "output_type": "display_data"
    }
   ],
   "source": [
    "plt.figure(figsize=(10,8))\n",
    "plt.subplot(4,1,1)\n",
    "dataset['Compound'].plot()\n",
    "plt.title('Compund Score')\n",
    "plt.subplot(4,1,2)\n",
    "dataset['Negative'].plot.area()\n",
    "plt.title('Negative Score')\n",
    "plt.subplot(4,1,3)\n",
    "dataset['Positive'].plot.area()\n",
    "plt.title('Posistive Score')\n",
    "plt.subplot(4,1,4)\n",
    "dataset['Neutral'].plot.area()\n",
    "plt.title('Neutral Score')"
   ]
  },
  {
   "cell_type": "code",
   "execution_count": null,
   "metadata": {},
   "outputs": [],
   "source": []
  }
 ],
 "metadata": {
  "colab": {
   "name": "Text Analysis",
   "provenance": []
  },
  "kernelspec": {
   "display_name": "Python 3",
   "language": "python",
   "name": "python3"
  },
  "language_info": {
   "codemirror_mode": {
    "name": "ipython",
    "version": 3
   },
   "file_extension": ".py",
   "mimetype": "text/x-python",
   "name": "python",
   "nbconvert_exporter": "python",
   "pygments_lexer": "ipython3",
   "version": "3.8.3"
  },
  "toc": {
   "base_numbering": 1,
   "nav_menu": {},
   "number_sections": true,
   "sideBar": true,
   "skip_h1_title": false,
   "title_cell": "Table of Contents",
   "title_sidebar": "Contents",
   "toc_cell": false,
   "toc_position": {},
   "toc_section_display": true,
   "toc_window_display": false
  }
 },
 "nbformat": 4,
 "nbformat_minor": 1
}
